{
  "cells": [
    {
      "cell_type": "markdown",
      "metadata": {
        "id": "view-in-github",
        "colab_type": "text"
      },
      "source": [
        "<a href=\"https://colab.research.google.com/github/hassanabbaskhan/Python-Practice-Projects/blob/main/while_loop_expense_calculator.ipynb\" target=\"_parent\"><img src=\"https://colab.research.google.com/assets/colab-badge.svg\" alt=\"Open In Colab\"/></a>"
      ]
    },
    {
      "cell_type": "code",
      "source": [
        "#writing code for X no of expenses\n",
        "#when the no of expenses are not known\n",
        "#use while loop\n",
        "\n",
        "sum=0\n",
        "while True:\n",
        "  x=input()\n",
        "  if x==\"\": #if there is no entry, then the loop should stop\n",
        "    break\n",
        "  elif x!=\"\":\n",
        "    sum=sum+int(x)\n",
        "  print(\"the sum of inputs is\",sum)"
      ],
      "metadata": {
        "colab": {
          "base_uri": "https://localhost:8080/"
        },
        "id": "sv_BkCk022Vx",
        "outputId": "e047b11b-2daa-4259-8747-f6636114d75e"
      },
      "execution_count": 1,
      "outputs": [
        {
          "name": "stdout",
          "output_type": "stream",
          "text": [
            "1\n",
            "the sum of inputs is 1\n",
            "2\n",
            "the sum of inputs is 3\n",
            "\n"
          ]
        }
      ]
    },
    {
      "cell_type": "code",
      "source": [
        "#writing code for X no of expenses\n",
        "#when the no of expenses are not known\n",
        "#use while loop\n",
        "sum=0\n",
        "while True:\n",
        "  x=int(input())\n",
        "  if x==0:   #if 0 is entered, then the loop should stop\n",
        "    break\n",
        "  elif x!=0:\n",
        "    sum=sum+x\n",
        "  print(\"the sum of inputs is\",sum)"
      ],
      "metadata": {
        "colab": {
          "base_uri": "https://localhost:8080/"
        },
        "id": "Bi4RR5PeP03a",
        "outputId": "3140a594-06e6-494e-9739-7abbe066b4bd"
      },
      "execution_count": 4,
      "outputs": [
        {
          "name": "stdout",
          "output_type": "stream",
          "text": [
            "1\n",
            "the sum of inputs is 1\n",
            "1\n",
            "the sum of inputs is 2\n",
            "0\n"
          ]
        }
      ]
    },
    {
      "cell_type": "code",
      "source": [],
      "metadata": {
        "id": "yWW5nfa8Wmff"
      },
      "execution_count": null,
      "outputs": []
    }
  ],
  "metadata": {
    "colab": {
      "collapsed_sections": [],
      "provenance": [],
      "authorship_tag": "ABX9TyNFajzzALI2ugTIqR5+/UX7",
      "include_colab_link": true
    },
    "kernelspec": {
      "display_name": "Python 3",
      "name": "python3"
    },
    "language_info": {
      "name": "python"
    }
  },
  "nbformat": 4,
  "nbformat_minor": 0
}
